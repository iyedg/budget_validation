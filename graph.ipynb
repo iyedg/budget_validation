{
 "cells": [
  {
   "cell_type": "code",
   "execution_count": 1,
   "metadata": {},
   "outputs": [],
   "source": [
    "import matplotlib.pyplot as plt\n",
    "import networkx\n",
    "import pandas as pd\n",
    "import plotly.figure_factory as ff\n",
    "import plotly.graph_objs as go\n",
    "import plotly.offline as py\n",
    "import plotly.io as pio"
   ]
  },
  {
   "cell_type": "code",
   "execution_count": 9,
   "metadata": {},
   "outputs": [],
   "source": [
    "g = networkx.generators.trees.random_tree(24, )\n",
    "pos = networkx.drawing.nx_pydot.pydot_layout(g, \"dot\")"
   ]
  },
  {
   "cell_type": "code",
   "execution_count": 10,
   "metadata": {},
   "outputs": [],
   "source": [
    "x_nodes = [pos[i][0] for i in pos]\n",
    "y_nodes = [pos[i][1] for i in pos]\n",
    "x_edges = []\n",
    "y_edges = []\n",
    "for node1, node2 in g.edges:\n",
    "    node1_x, node1_y = pos[node1][0], pos[node1][1]\n",
    "    node2_x, node2_y = pos[node2][0], pos[node2][1]\n",
    "    x_edges.extend([node1_x, node2_x, None])\n",
    "    y_edges.extend([node1_y, node2_y, None])"
   ]
  },
  {
   "cell_type": "code",
   "execution_count": 11,
   "metadata": {},
   "outputs": [],
   "source": [
    "trace_nodes = go.Scatter(\n",
    "    x=x_nodes,\n",
    "    y=y_nodes,\n",
    "    mode=\"markers\",\n",
    "    marker=dict(\n",
    "        symbol=\"circle\",\n",
    "        size=18,\n",
    "    ),\n",
    ")\n",
    "trace_edges = go.Scatter(\n",
    "    x=x_edges,\n",
    "    y=y_edges,\n",
    "    mode=\"lines\",\n",
    "    hoverinfo=\"none\",\n",
    ")"
   ]
  },
  {
   "cell_type": "code",
   "execution_count": 12,
   "metadata": {},
   "outputs": [],
   "source": [
    "axis = dict(\n",
    "    showline=False,  # hide axis line, grid, ticklabels and  title\n",
    "    zeroline=False,\n",
    "    showgrid=False,\n",
    "    showticklabels=False,\n",
    ")\n",
    "layout = go.Layout(\n",
    "    title=\"Average Earnings for Graduates\",\n",
    "    showlegend=False,\n",
    "    xaxis=go.layout.XAxis(axis),\n",
    "    yaxis=go.layout.YAxis(axis),\n",
    ")"
   ]
  },
  {
   "cell_type": "code",
   "execution_count": 13,
   "metadata": {
    "scrolled": false
   },
   "outputs": [
    {
     "data": {
      "application/vnd.jupyter.widget-view+json": {
       "model_id": "2dfeb7340cda4c2cbf33240f6f898e7a",
       "version_major": 2,
       "version_minor": 0
      },
      "text/plain": [
       "FigureWidget({\n",
       "    'data': [{'marker': {'size': 18, 'symbol': 'circle'},\n",
       "              'mode': 'markers',\n",
       "    …"
      ]
     },
     "metadata": {},
     "output_type": "display_data"
    }
   ],
   "source": [
    "fig = go.Figure(data=[trace_nodes, trace_edges], layout=layout)\n",
    "fig_widget = go.FigureWidget(fig)\n",
    "fig_widget.layout.template = \"plotly_dark\"\n",
    "fig_widget"
   ]
  },
  {
   "cell_type": "code",
   "execution_count": 141,
   "metadata": {},
   "outputs": [],
   "source": []
  }
 ],
 "metadata": {
  "file_extension": ".py",
  "kernelspec": {
   "display_name": "Python 3",
   "language": "python",
   "name": "python3"
  },
  "language_info": {
   "codemirror_mode": {
    "name": "ipython",
    "version": 3
   },
   "file_extension": ".py",
   "mimetype": "text/x-python",
   "name": "python",
   "nbconvert_exporter": "python",
   "pygments_lexer": "ipython3",
   "version": "3.7.1"
  },
  "mimetype": "text/x-python",
  "name": "python",
  "npconvert_exporter": "python",
  "pygments_lexer": "ipython3",
  "version": 3
 },
 "nbformat": 4,
 "nbformat_minor": 2
}
